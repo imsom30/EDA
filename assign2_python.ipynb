{
 "cells": [
  {
   "cell_type": "code",
   "execution_count": 3,
   "metadata": {},
   "outputs": [],
   "source": [
    "import re"
   ]
  },
  {
   "cell_type": "code",
   "execution_count": 4,
   "metadata": {},
   "outputs": [
    {
     "name": "stdout",
     "output_type": "stream",
     "text": [
      "C:\\Users\\lenovo\\Assignment2\n"
     ]
    }
   ],
   "source": [
    "cd C:\\Users\\lenovo\\Assignment2"
   ]
  },
  {
   "cell_type": "code",
   "execution_count": 6,
   "metadata": {},
   "outputs": [],
   "source": [
    "import string\n",
    "fhand=open('weblog.txt','r')      \n",
    "ip_count=dict()\n",
    "for line in fhand:\n",
    "    line=line.rstrip()\n",
    "    for word in line.split():\n",
    "        x=word.split('.')[0]\n",
    "        if (re.search('^[0-9]',x)):\n",
    "            if(len(x)==2):\n",
    "                ip_count[word]=ip_count.get(word,0)+1\n",
    "            \n",
    "\n",
    "            "
   ]
  },
  {
   "cell_type": "code",
   "execution_count": 7,
   "metadata": {},
   "outputs": [
    {
     "data": {
      "text/plain": [
       "{'10.128.2.1': 4257,\n",
       " '10.131.2.1': 1626,\n",
       " '10.130.2.1': 4056,\n",
       " '10.129.2.1': 1652,\n",
       " '10.131.0.1': 4198}"
      ]
     },
     "execution_count": 7,
     "metadata": {},
     "output_type": "execute_result"
    }
   ],
   "source": [
    "ip_count"
   ]
  },
  {
   "cell_type": "code",
   "execution_count": 31,
   "metadata": {},
   "outputs": [],
   "source": [
    "daily_stats=dict()\n",
    "lis=[]\n",
    "fhand=open('weblog.txt','r')\n",
    "for line in fhand:\n",
    "    line=line.rstrip()\n",
    "    for word in (re.findall('\\d{1,2}\\/\\\\w\\w\\w[/]\\d{1,4}',line)):\n",
    "        if (word!=[]):\n",
    "            lis.append(word)\n",
    "            \n",
    "            \n",
    "for i in lis:\n",
    "    daily_stats[i]=daily_stats.get(i,0)+1"
   ]
  },
  {
   "cell_type": "code",
   "execution_count": 32,
   "metadata": {},
   "outputs": [
    {
     "data": {
      "text/plain": [
       "{'29/Nov/2017': 580,\n",
       " '30/Nov/2017': 2991,\n",
       " '01/Dec/2017': 468,\n",
       " '02/Dec/2017': 168,\n",
       " '03/Dec/2017': 105,\n",
       " '07/Nov/2017': 2,\n",
       " '08/Nov/2017': 106,\n",
       " '09/Nov/2017': 236,\n",
       " '10/Nov/2017': 64,\n",
       " '11/Nov/2017': 286,\n",
       " '12/Nov/2017': 338,\n",
       " '13/Nov/2017': 230,\n",
       " '14/Nov/2017': 150,\n",
       " '15/Nov/2017': 78,\n",
       " '16/Nov/2017': 384,\n",
       " '17/Nov/2017': 481,\n",
       " '18/Nov/2017': 96,\n",
       " '19/Nov/2017': 164,\n",
       " '20/Nov/2017': 58,\n",
       " '21/Nov/2017': 47,\n",
       " '22/Nov/2017': 60,\n",
       " '23/Nov/2017': 380,\n",
       " '24/Nov/2017': 94,\n",
       " '25/Nov/2017': 250,\n",
       " '26/Nov/2017': 179,\n",
       " '12/Dec/2017': 86,\n",
       " '13/Dec/2017': 133,\n",
       " '14/Dec/2017': 165,\n",
       " '15/Dec/2017': 100,\n",
       " '16/Dec/2017': 155,\n",
       " '17/Dec/2017': 92,\n",
       " '18/Dec/2017': 178,\n",
       " '19/Dec/2017': 55,\n",
       " '20/Dec/2017': 98,\n",
       " '21/Dec/2017': 72,\n",
       " '22/Dec/2017': 11,\n",
       " '23/Dec/2017': 43,\n",
       " '16/Jan/2018': 76,\n",
       " '17/Jan/2018': 29,\n",
       " '18/Jan/2018': 63,\n",
       " '29/Jan/2018': 5092,\n",
       " '15/Feb/2018': 20,\n",
       " '16/Feb/2018': 33,\n",
       " '17/Feb/2018': 65,\n",
       " '18/Feb/2018': 34,\n",
       " '19/Feb/2018': 32,\n",
       " '20/Feb/2018': 62,\n",
       " '21/Feb/2018': 110,\n",
       " '22/Feb/2018': 231,\n",
       " '23/Feb/2018': 127,\n",
       " '24/Feb/2018': 15,\n",
       " '25/Feb/2018': 139,\n",
       " '26/Feb/2018': 98,\n",
       " '27/Feb/2018': 83,\n",
       " '28/Feb/2018': 123,\n",
       " '01/Mar/2018': 31,\n",
       " '02/Mar/2018': 143}"
      ]
     },
     "execution_count": 32,
     "metadata": {},
     "output_type": "execute_result"
    }
   ],
   "source": [
    "daily_stats"
   ]
  },
  {
   "cell_type": "code",
   "execution_count": 30,
   "metadata": {},
   "outputs": [
    {
     "name": "stdout",
     "output_type": "stream",
     "text": [
      "(3284, 'GET /login.php HTTP/1.1')\n"
     ]
    }
   ],
   "source": [
    "d=dict()\n",
    "lis3=[]\n",
    "lis2=[]\n",
    "\n",
    "fhand=open('weblog.txt','r')\n",
    "for line in fhand:\n",
    "    for word in (re.findall('GET.*[1.1]',line) or re.findall('POST.*[1.1]',line)):\n",
    "        if word!=[]:\n",
    "            lis2.append(word)\n",
    "            \n",
    "\n",
    "for url in lis2:\n",
    "    d[url] = d.get(url,0)+1\n",
    "\n",
    "for value in d:\n",
    "    lis3=lis3+[(d[value],value)]\n",
    "    \n",
    "lis3.sort(reverse=True)\n",
    "print(lis3[0])\n",
    "            "
   ]
  },
  {
   "cell_type": "code",
   "execution_count": 35,
   "metadata": {},
   "outputs": [
    {
     "name": "stdout",
     "output_type": "stream",
     "text": [
      "Count of GET: 15098\n",
      "Count of POST: 682\n"
     ]
    }
   ],
   "source": [
    "fhand=open('weblog.txt','r')\n",
    "get=[]\n",
    "post=[]\n",
    "lis4=[]\n",
    "lis5=[]\n",
    "for line in fhand:\n",
    "    for word in (re.findall('GET.*[1.1]',line)):\n",
    "        lis4.append(word)\n",
    "    for word in (re.findall('POST.*[1.1]',line)):\n",
    "        lis5.append(word)\n",
    "print('Count of GET:',len(lis4))\n",
    "print('Count of POST:',len(lis5))"
   ]
  },
  {
   "cell_type": "code",
   "execution_count": 37,
   "metadata": {},
   "outputs": [
    {
     "name": "stdout",
     "output_type": "stream",
     "text": [
      "{'200': ('Success', 11330), '302': ('Requested resource has been temporarily moved', 3498), '304': ('File not Modified(means no updateis required)', 658), '206': ('Partial content has been processed', 52), '404': ('File not Found', 251)}\n"
     ]
    }
   ],
   "source": [
    "fhand = open(\"weblog.txt\",'r')\n",
    "c=[]\n",
    "d=dict()\n",
    "for line in fhand:\n",
    "    for word in (re.findall('\\d{1,3}$',line)):\n",
    "        if word!=[]:\n",
    "            c.append(word)\n",
    "\n",
    "\n",
    "for code in c:\n",
    "    d[code] = d.get(code,0)+1\n",
    "    \n",
    "for num in d:\n",
    "    if num==\"200\":\n",
    "        d[num]=(\"Success\",d[\"200\"])\n",
    "    if num==\"206\":\n",
    "        d[num]=(\"Partial content has been processed\",d[\"206\"])\n",
    "    if num==\"302\":\n",
    "        d[num]=(\"Requested resource has been temporarily moved\",d[\"302\"])\n",
    "    if num==\"304\":\n",
    "        d[num]=(\"File not Modified(means no updateis required)\",d[\"304\"])\n",
    "    if num==\"404\":\n",
    "        d[num]=(\"File not Found\",d[\"404\"])\n",
    "    \n",
    "print(d)"
   ]
  },
  {
   "cell_type": "code",
   "execution_count": 40,
   "metadata": {},
   "outputs": [
    {
     "name": "stdout",
     "output_type": "stream",
     "text": [
      "[('06', 580), ('07', 313), ('13', 766), ('14', 581), ('15', 1461), ('16', 1169), ('17', 754), ('18', 734), ('19', 847), ('21', 240), ('22', 226), ('03', 164), ('08', 284), ('09', 192), ('10', 138), ('11', 255), ('12', 737), ('20', 5458), ('00', 118), ('01', 53), ('04', 246), ('05', 283), ('23', 157), ('02', 48), ('51', 3), ('64', 1), ('47', 2), ('53', 1), ('49', 5), ('58', 5), ('37', 5), ('28', 2)]\n"
     ]
    }
   ],
   "source": [
    "fhand = open(\"weblog.txt\",'r')\n",
    "lis5=[]\n",
    "d=dict()\n",
    "for line in fhand:\n",
    "    for w in (re.findall(':\\d\\d',line)[0:1]):\n",
    "        lis5.append(w.split(':')[1])\n",
    "\n",
    "\n",
    "for time in lis5:\n",
    "    d[time]=d.get(time,0)+1\n",
    "\n",
    "lis6 = [(k, v) for k, v in d.items()]\n",
    "print(lis6)\n",
    "lis7=sorted(lis5)"
   ]
  },
  {
   "cell_type": "code",
   "execution_count": 41,
   "metadata": {},
   "outputs": [
    {
     "data": {
      "text/plain": [
       "(array([1.180e+02, 5.300e+01, 4.800e+01, 1.640e+02, 0.000e+00, 2.460e+02,\n",
       "        2.830e+02, 5.800e+02, 0.000e+00, 3.130e+02, 2.840e+02, 1.920e+02,\n",
       "        1.380e+02, 0.000e+00, 2.550e+02, 7.370e+02, 7.660e+02, 0.000e+00,\n",
       "        5.810e+02, 1.461e+03, 1.169e+03, 7.540e+02, 0.000e+00, 7.340e+02,\n",
       "        8.470e+02, 5.458e+03, 0.000e+00, 2.400e+02, 2.260e+02, 1.570e+02,\n",
       "        2.000e+00, 0.000e+00, 5.000e+00, 2.000e+00, 5.000e+00, 0.000e+00,\n",
       "        3.000e+00, 1.000e+00, 5.000e+00, 1.000e+00]),\n",
       " array([ 0.   ,  0.775,  1.55 ,  2.325,  3.1  ,  3.875,  4.65 ,  5.425,\n",
       "         6.2  ,  6.975,  7.75 ,  8.525,  9.3  , 10.075, 10.85 , 11.625,\n",
       "        12.4  , 13.175, 13.95 , 14.725, 15.5  , 16.275, 17.05 , 17.825,\n",
       "        18.6  , 19.375, 20.15 , 20.925, 21.7  , 22.475, 23.25 , 24.025,\n",
       "        24.8  , 25.575, 26.35 , 27.125, 27.9  , 28.675, 29.45 , 30.225,\n",
       "        31.   ]),\n",
       " <a list of 1 Patch objects>)"
      ]
     },
     "execution_count": 41,
     "metadata": {},
     "output_type": "execute_result"
    },
    {
     "data": {
      "image/png": "[encoded data removed]",
      "text/plain": [
       "<Figure size 720x432 with 1 Axes>"
      ]
     },
     "metadata": {
      "needs_background": "light"
     },
     "output_type": "display_data"
    }
   ],
   "source": [
    "import matplotlib.pyplot as plt\n",
    "%matplotlib inline\n",
    "plt.figure(figsize=(10,6))\n",
    "plt.hist(lis7,histtype='step',bins=40)"
   ]
  },
  {
   "cell_type": "code",
   "execution_count": null,
   "metadata": {},
   "outputs": [],
   "source": []
  }
 ],
 "metadata": {
  "kernelspec": {
   "display_name": "Python 3",
   "language": "python",
   "name": "python3"
  },
  "language_info": {
   "codemirror_mode": {
    "name": "ipython",
    "version": 3
   },
   "file_extension": ".py",
   "mimetype": "text/x-python",
   "name": "python",
   "nbconvert_exporter": "python",
   "pygments_lexer": "ipython3",
   "version": "3.7.3"
  }
 },
 "nbformat": 4,
 "nbformat_minor": 2
}
